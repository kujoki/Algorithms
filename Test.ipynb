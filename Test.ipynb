{
 "cells": [
  {
   "cell_type": "code",
   "execution_count": 1,
   "id": "372be275",
   "metadata": {},
   "outputs": [],
   "source": [
    "import random"
   ]
  },
  {
   "cell_type": "code",
   "execution_count": 2,
   "id": "cd859e62",
   "metadata": {},
   "outputs": [],
   "source": [
    "def test(gcd,n_iter = 100):\n",
    "    for i in range(n_iter):\n",
    "        c = random.randint(0,1024)\n",
    "        a = c * random.randint(0, 128)\n",
    "        b = c * random.randint(0, 128)\n",
    "    assert gcd(a,a) == gcd(a,0) == a\n",
    "    assert gcd(b,b) ==  gcd(b,0) == b\n",
    "    assert gcd(1,b) ==  gcd(1,a) == 1\n",
    "    d = gcd(a, b)\n",
    "    assert a % d == b % d == 0\n",
    "    "
   ]
  },
  {
   "cell_type": "code",
   "execution_count": 12,
   "id": "5aee5776",
   "metadata": {},
   "outputs": [],
   "source": [
    "def gcd1(a,b):\n",
    "    assert a>= 0 and b>=0\n",
    "    for d in reversed(range(max(a,b)+1)):\n",
    "        if d == 0 or a%d == b%d == 0:\n",
    "            return d\n",
    "        "
   ]
  },
  {
   "cell_type": "code",
   "execution_count": 13,
   "id": "3cfb7ad5",
   "metadata": {},
   "outputs": [
    {
     "data": {
      "text/plain": [
       "1"
      ]
     },
     "execution_count": 13,
     "metadata": {},
     "output_type": "execute_result"
    }
   ],
   "source": [
    "gcd1(8,3)"
   ]
  },
  {
   "cell_type": "code",
   "execution_count": 14,
   "id": "78ed367f",
   "metadata": {},
   "outputs": [
    {
     "data": {
      "text/plain": [
       "8"
      ]
     },
     "execution_count": 14,
     "metadata": {},
     "output_type": "execute_result"
    }
   ],
   "source": [
    "gcd1(8,0)"
   ]
  },
  {
   "cell_type": "code",
   "execution_count": 15,
   "id": "ae9b235a",
   "metadata": {},
   "outputs": [
    {
     "data": {
      "text/plain": [
       "0"
      ]
     },
     "execution_count": 15,
     "metadata": {},
     "output_type": "execute_result"
    }
   ],
   "source": [
    "gcd1(0,0)"
   ]
  },
  {
   "cell_type": "code",
   "execution_count": 16,
   "id": "76849123",
   "metadata": {},
   "outputs": [],
   "source": [
    "test(gcd1)"
   ]
  },
  {
   "cell_type": "code",
   "execution_count": 17,
   "id": "2305f726",
   "metadata": {},
   "outputs": [],
   "source": [
    "def gcd2(a,b):\n",
    "    while a and b:\n",
    "        if a>= b:\n",
    "            a %= b\n",
    "        else:\n",
    "            b %= a\n",
    "    return max(a,b)"
   ]
  },
  {
   "cell_type": "code",
   "execution_count": 18,
   "id": "7505c5ad",
   "metadata": {},
   "outputs": [],
   "source": [
    "test(gcd2)"
   ]
  },
  {
   "cell_type": "code",
   "execution_count": null,
   "id": "ce1bc742",
   "metadata": {},
   "outputs": [],
   "source": [
    "def gcd2(a,b):\n",
    "    "
   ]
  }
 ],
 "metadata": {
  "kernelspec": {
   "display_name": "Python 3 (ipykernel)",
   "language": "python",
   "name": "python3"
  },
  "language_info": {
   "codemirror_mode": {
    "name": "ipython",
    "version": 3
   },
   "file_extension": ".py",
   "mimetype": "text/x-python",
   "name": "python",
   "nbconvert_exporter": "python",
   "pygments_lexer": "ipython3",
   "version": "3.8.10"
  }
 },
 "nbformat": 4,
 "nbformat_minor": 5
}
