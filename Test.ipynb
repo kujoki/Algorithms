{
 "cells": [
  {
   "cell_type": "code",
   "execution_count": 1,
   "id": "da4e35a4",
   "metadata": {},
   "outputs": [],
   "source": [
    "import random"
   ]
  },
  {
   "cell_type": "code",
   "execution_count": 2,
   "id": "d9713157",
   "metadata": {},
   "outputs": [],
   "source": [
    "def test(gcd,n_iter = 100):\n",
    "    for i in range(n_iter):\n",
    "        c = random.randint(0,1024)\n",
    "        a = c * random.randint(0, 128)\n",
    "        b = c * random.randint(0, 128)\n",
    "    assert gcd(a,a) == gcd(a,0) == a\n",
    "    assert gcd(b,b) ==  gcd(b,0) == b\n",
    "    assert gcd(1,b) ==  gcd(1,a) == 1\n",
    "    d = gcd(a, b)\n",
    "    assert a % d == b % d == 0\n",
    "    "
   ]
  },
  {
   "cell_type": "code",
   "execution_count": 12,
   "id": "ae1951e8",
   "metadata": {},
   "outputs": [],
   "source": [
    "def gcd1(a,b):\n",
    "    assert a>= 0 and b>=0\n",
    "    for d in reversed(range(max(a,b)+1)):\n",
    "        if d == 0 or a%d == b%d == 0:\n",
    "            return d\n",
    "        "
   ]
  },
  {
   "cell_type": "code",
   "execution_count": 13,
   "id": "ed054565",
   "metadata": {},
   "outputs": [
    {
     "data": {
      "text/plain": [
       "1"
      ]
     },
     "execution_count": 13,
     "metadata": {},
     "output_type": "execute_result"
    }
   ],
   "source": [
    "gcd1(8,3)"
   ]
  },
  {
   "cell_type": "code",
   "execution_count": 14,
   "id": "1a73abb8",
   "metadata": {},
   "outputs": [
    {
     "data": {
      "text/plain": [
       "8"
      ]
     },
     "execution_count": 14,
     "metadata": {},
     "output_type": "execute_result"
    }
   ],
   "source": [
    "gcd1(8,0)"
   ]
  },
  {
   "cell_type": "code",
   "execution_count": 15,
   "id": "62694a77",
   "metadata": {},
   "outputs": [
    {
     "data": {
      "text/plain": [
       "0"
      ]
     },
     "execution_count": 15,
     "metadata": {},
     "output_type": "execute_result"
    }
   ],
   "source": [
    "gcd1(0,0)"
   ]
  },
  {
   "cell_type": "code",
   "execution_count": 16,
   "id": "ffc7f184",
   "metadata": {},
   "outputs": [],
   "source": [
    "test(gcd1)"
   ]
  },
  {
   "cell_type": "code",
   "execution_count": 17,
   "id": "d41738be",
   "metadata": {},
   "outputs": [],
   "source": [
    "def gcd2(a,b):\n",
    "    while a and b:\n",
    "        if a>= b:\n",
    "            a %= b\n",
    "        else:\n",
    "            b %= a\n",
    "    return max(a,b)"
   ]
  },
  {
   "cell_type": "code",
   "execution_count": 18,
   "id": "df146d6d",
   "metadata": {},
   "outputs": [],
   "source": [
    "test(gcd2)"
   ]
  },
  {
   "cell_type": "code",
   "execution_count": 22,
   "id": "430a6019",
   "metadata": {},
   "outputs": [],
   "source": [
    "def gcd3(a,b):\n",
    "    assert a>= 0 and b>= 0 \n",
    "    if a == 0 or b == 0:\n",
    "        return max(a,b)\n",
    "    elif a>=b:\n",
    "        return gcd3(a%b,b)\n",
    "    else:\n",
    "        return  gcd3(a,b%a)\n",
    "    "
   ]
  },
  {
   "cell_type": "code",
   "execution_count": 23,
   "id": "39e79624",
   "metadata": {},
   "outputs": [],
   "source": [
    "test(gcd3)"
   ]
  },
  {
   "cell_type": "code",
   "execution_count": 24,
   "id": "99a75cc8",
   "metadata": {},
   "outputs": [
    {
     "data": {
      "text/plain": [
       "3"
      ]
     },
     "execution_count": 24,
     "metadata": {},
     "output_type": "execute_result"
    }
   ],
   "source": [
    "gcd(24,9) gcd(6,9) gcd(6,3) gcd(0,3)"
   ]
  },
  {
   "cell_type": "code",
   "execution_count": 25,
   "id": "b4cc5b61",
   "metadata": {},
   "outputs": [],
   "source": [
    "def gcd4(a,b):\n",
    "    assert a>= 0 and b>= 0 \n",
    "    if a == 0 or b == 0:\n",
    "        return max(a,b)\n",
    "    return gcd4(b%a,a)"
   ]
  },
  {
   "cell_type": "code",
   "execution_count": 26,
   "id": "b2a22742",
   "metadata": {},
   "outputs": [],
   "source": [
    "test(gcd4)"
   ]
  },
  {
   "cell_type": "code",
   "execution_count": 27,
   "id": "787dd102",
   "metadata": {},
   "outputs": [],
   "source": [
    "def gcd5(a,b):\n",
    "    assert a>= 0 and b>= 0 \n",
    "    if a == 0 or b == 0:\n",
    "        return max(a,b)\n",
    "    return gcd4(a%b,b)"
   ]
  },
  {
   "cell_type": "code",
   "execution_count": 28,
   "id": "a594db75",
   "metadata": {},
   "outputs": [],
   "source": [
    "test(gcd5)"
   ]
  },
  {
   "cell_type": "code",
   "execution_count": null,
   "id": "2189a8ea",
   "metadata": {},
   "outputs": [],
   "source": []
  }
 ],
 "metadata": {
  "kernelspec": {
   "display_name": "Python 3 (ipykernel)",
   "language": "python",
   "name": "python3"
  },
  "language_info": {
   "codemirror_mode": {
    "name": "ipython",
    "version": 3
   },
   "file_extension": ".py",
   "mimetype": "text/x-python",
   "name": "python",
   "nbconvert_exporter": "python",
   "pygments_lexer": "ipython3",
   "version": "3.8.10"
  }
 },
 "nbformat": 4,
 "nbformat_minor": 5
}
