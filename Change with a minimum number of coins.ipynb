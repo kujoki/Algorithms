{
 "cells": [
  {
   "cell_type": "markdown",
   "id": "0a199d5b",
   "metadata": {},
   "source": [
    "Постройте жадный алгоритм, который получает на вход натуральное число n и за время O(n)\n",
    "находит минимальное число монет номиналом 1 копейка, 5 копеек, 10 копеек и 25 копеек,\n",
    "с помощью которых можно выдать сдачу в n копеек. \n",
    "(Как всегда, нужно описать алгоритм, доказать его корректность и оценку на время работы. \n",
    " Приводить псевдокод нужно только в том случае, если вам кажется, что он поможет читателю лучше \n",
    " понять ваш алгоритм.)\n",
    "\n",
    "Приведите пример номиналов монет, для которых жадный алгоритм построит неоптимальное решение. \n",
    "В множество номиналов должна входить монета номиналом 1 копейка, чтобы любую сумму n можно было \n",
    "разменять этими монетами."
   ]
  },
  {
   "cell_type": "code",
   "execution_count": 1,
   "id": "b66984df",
   "metadata": {},
   "outputs": [
    {
     "name": "stdout",
     "output_type": "stream",
     "text": [
      "55\n"
     ]
    }
   ],
   "source": [
    "n = int(input())"
   ]
  },
  {
   "cell_type": "code",
   "execution_count": 2,
   "id": "99d0c103",
   "metadata": {},
   "outputs": [],
   "source": [
    " out = [25, 10, 5, 1]"
   ]
  },
  {
   "cell_type": "code",
   "execution_count": 3,
   "id": "bf82acbc",
   "metadata": {},
   "outputs": [
    {
     "name": "stdout",
     "output_type": "stream",
     "text": [
      "25\n",
      "5\n"
     ]
    }
   ],
   "source": [
    "for i in out:\n",
    "    if n//i > 0:\n",
    "        n = n - i*(n//i)\n",
    "        print (i)\n",
    "    if n == 0:\n",
    "        break\n",
    "        "
   ]
  },
  {
   "cell_type": "code",
   "execution_count": null,
   "id": "a87e0af3",
   "metadata": {},
   "outputs": [],
   "source": []
  }
 ],
 "metadata": {
  "kernelspec": {
   "display_name": "Python 3 (ipykernel)",
   "language": "python",
   "name": "python3"
  },
  "language_info": {
   "codemirror_mode": {
    "name": "ipython",
    "version": 3
   },
   "file_extension": ".py",
   "mimetype": "text/x-python",
   "name": "python",
   "nbconvert_exporter": "python",
   "pygments_lexer": "ipython3",
   "version": "3.8.10"
  }
 },
 "nbformat": 4,
 "nbformat_minor": 5
}
