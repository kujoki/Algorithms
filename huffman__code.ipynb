{
 "cells": [
  {
   "cell_type": "code",
   "execution_count": null,
   "id": "6e250da1",
   "metadata": {},
   "outputs": [],
   "source": [
    "s = [str(x) for x in input()]\n",
    "\n",
    "d = {}\n",
    "for key in s:\n",
    "    if key not in d.keys():\n",
    "        d[key] = 1\n",
    "    elif key in d.keys():\n",
    "        d[key] += 1\n",
    "        \n",
    "Leaf = [(k,v) for k, v in d.items()]\n",
    "Leaf.sort(key=lambda x: x[1], reverse=True)\n",
    "new_dict = {}\n",
    "while len(Leaf) > 1:\n",
    "    Leaf.sort(key=lambda x: x[1], reverse=True)\n",
    "    temp_freq = Leaf[-1][1] + Leaf[-2][1]\n",
    "    temp_name = Leaf[-1][0] + Leaf[-2][0]\n",
    "    new_dict[Leaf[-1][0]] = 1\n",
    "    new_dict[Leaf[-2][0]] = 0\n",
    "    Leaf = Leaf[:-2]\n",
    "    Leaf.append((temp_name,temp_freq))\n",
    "new_dict[Leaf[0][0]] = 0\n",
    "\n",
    "res = dict(reversed(list(new_dict.items())))\n",
    "k = list(res.keys())\n",
    "all_string = []\n",
    "dict_of_new_values = {}\n",
    "\n",
    "if len(d.keys()) > 1:\n",
    "    for i in d.keys():\n",
    "        value = str()\n",
    "        for j in k[1:]:\n",
    "            temp = j\n",
    "            if temp.find(str(i)) != - 1:\n",
    "                all_string.append(res[j])\n",
    "                value += str(res[j])\n",
    "        dict_of_new_values[i] = value\n",
    "elif len(d.keys()) <= 1:\n",
    "    for i in d.keys():\n",
    "        dict_of_new_values[i] = str(new_dict[i])\n",
    "\n",
    "len_of_transform = []\n",
    "\n",
    "for i in s:\n",
    "    len_of_transform  += dict_of_new_values[i]\n",
    "print(len(d.keys()), len(len_of_transform))\n",
    "\n",
    "for key in dict_of_new_values.keys():\n",
    "    temp_name = str(key)+':'\n",
    "    print (temp_name, dict_of_new_values[key])\n",
    "\n",
    "for i in s:\n",
    "    print (dict_of_new_values[i],end='')"
   ]
  }
 ],
 "metadata": {
  "kernelspec": {
   "display_name": "Python 3 (ipykernel)",
   "language": "python",
   "name": "python3"
  },
  "language_info": {
   "codemirror_mode": {
    "name": "ipython",
    "version": 3
   },
   "file_extension": ".py",
   "mimetype": "text/x-python",
   "name": "python",
   "nbconvert_exporter": "python",
   "pygments_lexer": "ipython3",
   "version": "3.8.10"
  }
 },
 "nbformat": 4,
 "nbformat_minor": 5
}
